{
  "cells": [
    {
      "cell_type": "markdown",
      "metadata": {
        "id": "view-in-github",
        "colab_type": "text"
      },
      "source": [
        "<a href=\"https://colab.research.google.com/github/laurdcoc/-D012513A_Python_20230124/blob/main/Practical%20Python%20Specialized%20Bioinformatics%2020230124.ipynb\" target=\"_parent\"><img src=\"https://colab.research.google.com/assets/colab-badge.svg\" alt=\"Open In Colab\"/></a>"
      ]
    },
    {
      "cell_type": "markdown",
      "id": "7c6c3aa8",
      "metadata": {
        "id": "7c6c3aa8"
      },
      "source": [
        "# Practical Python Specialized Bioinformatics\n",
        "\n",
        "#### 24/01/2023\n",
        "\n",
        "For this exam you are asked to complete the Python code between the \n",
        "\n",
        "```\n",
        "#start code here\n",
        "\n",
        "#end code here\n",
        "```\n",
        "\n",
        "comments. \n",
        "\n",
        "A direct question needs to be answered in the text field just below the question.\n",
        "\n",
        "Don't forget to periodically save your work to your GitHub repository. \n",
        "\n",
        "Please write your name and studentnumber in the text box below:"
      ]
    },
    {
      "cell_type": "markdown",
      "id": "baed05fc",
      "metadata": {
        "id": "baed05fc"
      },
      "source": [
        "### Name:\n",
        "\n",
        "Laura De Cock\n",
        "\n",
        "### Number:\n",
        "\n",
        "01810233"
      ]
    },
    {
      "cell_type": "markdown",
      "id": "d7fdf038",
      "metadata": {
        "id": "d7fdf038"
      },
      "source": [
        "### Total points:    / 25"
      ]
    },
    {
      "cell_type": "code",
      "execution_count": 1,
      "id": "091354ed",
      "metadata": {
        "id": "091354ed"
      },
      "outputs": [],
      "source": [
        "import warnings;\n",
        "warnings.filterwarnings('ignore');\n",
        "\n",
        "import pandas as pd"
      ]
    },
    {
      "cell_type": "markdown",
      "id": "ee6c91c4",
      "metadata": {
        "id": "ee6c91c4"
      },
      "source": [
        "**question 1 (2pts)**\n",
        "\n",
        "Create a Pandas DataFrame called `patients` that looks like this:\n",
        "\n",
        "|           | gene_1 | gene_2 |\n",
        "|-----------|--------|--------|\n",
        "| patient_1 | 0.54   | 0.32   |\n",
        "| patient_2 | 0.66   | 0.10   |"
      ]
    },
    {
      "cell_type": "code",
      "execution_count": 3,
      "id": "13ce1b31",
      "metadata": {
        "id": "13ce1b31",
        "colab": {
          "base_uri": "https://localhost:8080/",
          "height": 111
        },
        "outputId": "afc9ef4e-fa69-4fee-b3da-e7640074391f"
      },
      "outputs": [
        {
          "output_type": "execute_result",
          "data": {
            "text/plain": [
              "          gene_1 gene_2\n",
              "patient_1   0.54   0.32\n",
              "patient_2   0.66   0.10"
            ],
            "text/html": [
              "\n",
              "  <div id=\"df-e78ddc65-b4c1-4390-86c4-65ede6cfbc02\">\n",
              "    <div class=\"colab-df-container\">\n",
              "      <div>\n",
              "<style scoped>\n",
              "    .dataframe tbody tr th:only-of-type {\n",
              "        vertical-align: middle;\n",
              "    }\n",
              "\n",
              "    .dataframe tbody tr th {\n",
              "        vertical-align: top;\n",
              "    }\n",
              "\n",
              "    .dataframe thead th {\n",
              "        text-align: right;\n",
              "    }\n",
              "</style>\n",
              "<table border=\"1\" class=\"dataframe\">\n",
              "  <thead>\n",
              "    <tr style=\"text-align: right;\">\n",
              "      <th></th>\n",
              "      <th>gene_1</th>\n",
              "      <th>gene_2</th>\n",
              "    </tr>\n",
              "  </thead>\n",
              "  <tbody>\n",
              "    <tr>\n",
              "      <th>patient_1</th>\n",
              "      <td>0.54</td>\n",
              "      <td>0.32</td>\n",
              "    </tr>\n",
              "    <tr>\n",
              "      <th>patient_2</th>\n",
              "      <td>0.66</td>\n",
              "      <td>0.10</td>\n",
              "    </tr>\n",
              "  </tbody>\n",
              "</table>\n",
              "</div>\n",
              "      <button class=\"colab-df-convert\" onclick=\"convertToInteractive('df-e78ddc65-b4c1-4390-86c4-65ede6cfbc02')\"\n",
              "              title=\"Convert this dataframe to an interactive table.\"\n",
              "              style=\"display:none;\">\n",
              "        \n",
              "  <svg xmlns=\"http://www.w3.org/2000/svg\" height=\"24px\"viewBox=\"0 0 24 24\"\n",
              "       width=\"24px\">\n",
              "    <path d=\"M0 0h24v24H0V0z\" fill=\"none\"/>\n",
              "    <path d=\"M18.56 5.44l.94 2.06.94-2.06 2.06-.94-2.06-.94-.94-2.06-.94 2.06-2.06.94zm-11 1L8.5 8.5l.94-2.06 2.06-.94-2.06-.94L8.5 2.5l-.94 2.06-2.06.94zm10 10l.94 2.06.94-2.06 2.06-.94-2.06-.94-.94-2.06-.94 2.06-2.06.94z\"/><path d=\"M17.41 7.96l-1.37-1.37c-.4-.4-.92-.59-1.43-.59-.52 0-1.04.2-1.43.59L10.3 9.45l-7.72 7.72c-.78.78-.78 2.05 0 2.83L4 21.41c.39.39.9.59 1.41.59.51 0 1.02-.2 1.41-.59l7.78-7.78 2.81-2.81c.8-.78.8-2.07 0-2.86zM5.41 20L4 18.59l7.72-7.72 1.47 1.35L5.41 20z\"/>\n",
              "  </svg>\n",
              "      </button>\n",
              "      \n",
              "  <style>\n",
              "    .colab-df-container {\n",
              "      display:flex;\n",
              "      flex-wrap:wrap;\n",
              "      gap: 12px;\n",
              "    }\n",
              "\n",
              "    .colab-df-convert {\n",
              "      background-color: #E8F0FE;\n",
              "      border: none;\n",
              "      border-radius: 50%;\n",
              "      cursor: pointer;\n",
              "      display: none;\n",
              "      fill: #1967D2;\n",
              "      height: 32px;\n",
              "      padding: 0 0 0 0;\n",
              "      width: 32px;\n",
              "    }\n",
              "\n",
              "    .colab-df-convert:hover {\n",
              "      background-color: #E2EBFA;\n",
              "      box-shadow: 0px 1px 2px rgba(60, 64, 67, 0.3), 0px 1px 3px 1px rgba(60, 64, 67, 0.15);\n",
              "      fill: #174EA6;\n",
              "    }\n",
              "\n",
              "    [theme=dark] .colab-df-convert {\n",
              "      background-color: #3B4455;\n",
              "      fill: #D2E3FC;\n",
              "    }\n",
              "\n",
              "    [theme=dark] .colab-df-convert:hover {\n",
              "      background-color: #434B5C;\n",
              "      box-shadow: 0px 1px 3px 1px rgba(0, 0, 0, 0.15);\n",
              "      filter: drop-shadow(0px 1px 2px rgba(0, 0, 0, 0.3));\n",
              "      fill: #FFFFFF;\n",
              "    }\n",
              "  </style>\n",
              "\n",
              "      <script>\n",
              "        const buttonEl =\n",
              "          document.querySelector('#df-e78ddc65-b4c1-4390-86c4-65ede6cfbc02 button.colab-df-convert');\n",
              "        buttonEl.style.display =\n",
              "          google.colab.kernel.accessAllowed ? 'block' : 'none';\n",
              "\n",
              "        async function convertToInteractive(key) {\n",
              "          const element = document.querySelector('#df-e78ddc65-b4c1-4390-86c4-65ede6cfbc02');\n",
              "          const dataTable =\n",
              "            await google.colab.kernel.invokeFunction('convertToInteractive',\n",
              "                                                     [key], {});\n",
              "          if (!dataTable) return;\n",
              "\n",
              "          const docLinkHtml = 'Like what you see? Visit the ' +\n",
              "            '<a target=\"_blank\" href=https://colab.research.google.com/notebooks/data_table.ipynb>data table notebook</a>'\n",
              "            + ' to learn more about interactive tables.';\n",
              "          element.innerHTML = '';\n",
              "          dataTable['output_type'] = 'display_data';\n",
              "          await google.colab.output.renderOutput(dataTable, element);\n",
              "          const docLink = document.createElement('div');\n",
              "          docLink.innerHTML = docLinkHtml;\n",
              "          element.appendChild(docLink);\n",
              "        }\n",
              "      </script>\n",
              "    </div>\n",
              "  </div>\n",
              "  "
            ]
          },
          "metadata": {},
          "execution_count": 3
        }
      ],
      "source": [
        "#start code here\n",
        "\n",
        "patients = pd.DataFrame({'gene_1': ['0.54', '0.66'], \n",
        "              'gene_2': ['0.32', '0.10']},\n",
        "             index=['patient_1', 'patient_2'])\n",
        "\n",
        "#end code here\n",
        "\n",
        "patients"
      ]
    },
    {
      "cell_type": "markdown",
      "id": "e9298a19",
      "metadata": {
        "id": "e9298a19"
      },
      "source": [
        "**question 2 (1pt)**\n",
        "\n",
        "Use the Pandas DataFrame `.head()` function to print the first row of the `patients` DataFrame."
      ]
    },
    {
      "cell_type": "code",
      "execution_count": 4,
      "id": "53a0fe40",
      "metadata": {
        "id": "53a0fe40",
        "colab": {
          "base_uri": "https://localhost:8080/",
          "height": 80
        },
        "outputId": "ca1262b1-454a-4cee-c3f2-a20b15759353"
      },
      "outputs": [
        {
          "output_type": "execute_result",
          "data": {
            "text/plain": [
              "          gene_1 gene_2\n",
              "patient_1   0.54   0.32"
            ],
            "text/html": [
              "\n",
              "  <div id=\"df-02d1640a-e80e-455b-9e51-0b20a2a9d105\">\n",
              "    <div class=\"colab-df-container\">\n",
              "      <div>\n",
              "<style scoped>\n",
              "    .dataframe tbody tr th:only-of-type {\n",
              "        vertical-align: middle;\n",
              "    }\n",
              "\n",
              "    .dataframe tbody tr th {\n",
              "        vertical-align: top;\n",
              "    }\n",
              "\n",
              "    .dataframe thead th {\n",
              "        text-align: right;\n",
              "    }\n",
              "</style>\n",
              "<table border=\"1\" class=\"dataframe\">\n",
              "  <thead>\n",
              "    <tr style=\"text-align: right;\">\n",
              "      <th></th>\n",
              "      <th>gene_1</th>\n",
              "      <th>gene_2</th>\n",
              "    </tr>\n",
              "  </thead>\n",
              "  <tbody>\n",
              "    <tr>\n",
              "      <th>patient_1</th>\n",
              "      <td>0.54</td>\n",
              "      <td>0.32</td>\n",
              "    </tr>\n",
              "  </tbody>\n",
              "</table>\n",
              "</div>\n",
              "      <button class=\"colab-df-convert\" onclick=\"convertToInteractive('df-02d1640a-e80e-455b-9e51-0b20a2a9d105')\"\n",
              "              title=\"Convert this dataframe to an interactive table.\"\n",
              "              style=\"display:none;\">\n",
              "        \n",
              "  <svg xmlns=\"http://www.w3.org/2000/svg\" height=\"24px\"viewBox=\"0 0 24 24\"\n",
              "       width=\"24px\">\n",
              "    <path d=\"M0 0h24v24H0V0z\" fill=\"none\"/>\n",
              "    <path d=\"M18.56 5.44l.94 2.06.94-2.06 2.06-.94-2.06-.94-.94-2.06-.94 2.06-2.06.94zm-11 1L8.5 8.5l.94-2.06 2.06-.94-2.06-.94L8.5 2.5l-.94 2.06-2.06.94zm10 10l.94 2.06.94-2.06 2.06-.94-2.06-.94-.94-2.06-.94 2.06-2.06.94z\"/><path d=\"M17.41 7.96l-1.37-1.37c-.4-.4-.92-.59-1.43-.59-.52 0-1.04.2-1.43.59L10.3 9.45l-7.72 7.72c-.78.78-.78 2.05 0 2.83L4 21.41c.39.39.9.59 1.41.59.51 0 1.02-.2 1.41-.59l7.78-7.78 2.81-2.81c.8-.78.8-2.07 0-2.86zM5.41 20L4 18.59l7.72-7.72 1.47 1.35L5.41 20z\"/>\n",
              "  </svg>\n",
              "      </button>\n",
              "      \n",
              "  <style>\n",
              "    .colab-df-container {\n",
              "      display:flex;\n",
              "      flex-wrap:wrap;\n",
              "      gap: 12px;\n",
              "    }\n",
              "\n",
              "    .colab-df-convert {\n",
              "      background-color: #E8F0FE;\n",
              "      border: none;\n",
              "      border-radius: 50%;\n",
              "      cursor: pointer;\n",
              "      display: none;\n",
              "      fill: #1967D2;\n",
              "      height: 32px;\n",
              "      padding: 0 0 0 0;\n",
              "      width: 32px;\n",
              "    }\n",
              "\n",
              "    .colab-df-convert:hover {\n",
              "      background-color: #E2EBFA;\n",
              "      box-shadow: 0px 1px 2px rgba(60, 64, 67, 0.3), 0px 1px 3px 1px rgba(60, 64, 67, 0.15);\n",
              "      fill: #174EA6;\n",
              "    }\n",
              "\n",
              "    [theme=dark] .colab-df-convert {\n",
              "      background-color: #3B4455;\n",
              "      fill: #D2E3FC;\n",
              "    }\n",
              "\n",
              "    [theme=dark] .colab-df-convert:hover {\n",
              "      background-color: #434B5C;\n",
              "      box-shadow: 0px 1px 3px 1px rgba(0, 0, 0, 0.15);\n",
              "      filter: drop-shadow(0px 1px 2px rgba(0, 0, 0, 0.3));\n",
              "      fill: #FFFFFF;\n",
              "    }\n",
              "  </style>\n",
              "\n",
              "      <script>\n",
              "        const buttonEl =\n",
              "          document.querySelector('#df-02d1640a-e80e-455b-9e51-0b20a2a9d105 button.colab-df-convert');\n",
              "        buttonEl.style.display =\n",
              "          google.colab.kernel.accessAllowed ? 'block' : 'none';\n",
              "\n",
              "        async function convertToInteractive(key) {\n",
              "          const element = document.querySelector('#df-02d1640a-e80e-455b-9e51-0b20a2a9d105');\n",
              "          const dataTable =\n",
              "            await google.colab.kernel.invokeFunction('convertToInteractive',\n",
              "                                                     [key], {});\n",
              "          if (!dataTable) return;\n",
              "\n",
              "          const docLinkHtml = 'Like what you see? Visit the ' +\n",
              "            '<a target=\"_blank\" href=https://colab.research.google.com/notebooks/data_table.ipynb>data table notebook</a>'\n",
              "            + ' to learn more about interactive tables.';\n",
              "          element.innerHTML = '';\n",
              "          dataTable['output_type'] = 'display_data';\n",
              "          await google.colab.output.renderOutput(dataTable, element);\n",
              "          const docLink = document.createElement('div');\n",
              "          docLink.innerHTML = docLinkHtml;\n",
              "          element.appendChild(docLink);\n",
              "        }\n",
              "      </script>\n",
              "    </div>\n",
              "  </div>\n",
              "  "
            ]
          },
          "metadata": {},
          "execution_count": 4
        }
      ],
      "source": [
        "#start code here\n",
        "\n",
        "patients.head(1)\n",
        "\n",
        "#end code here"
      ]
    },
    {
      "cell_type": "markdown",
      "id": "b6f7cdd9",
      "metadata": {
        "id": "b6f7cdd9"
      },
      "source": [
        "The following code loads the dataset we will use for this exam."
      ]
    },
    {
      "cell_type": "code",
      "execution_count": 5,
      "id": "052146c0",
      "metadata": {
        "id": "052146c0"
      },
      "outputs": [],
      "source": [
        "from sklearn.datasets import load_breast_cancer\n",
        "dataset = load_breast_cancer(as_frame=True).frame\n",
        "dataset.rename(columns = {'target':'label'}, inplace = True)"
      ]
    },
    {
      "cell_type": "markdown",
      "id": "79a82a67",
      "metadata": {
        "id": "79a82a67"
      },
      "source": [
        "**question 3 (1pt)**\n",
        "    \n",
        "Print the number of rows and columns in the `dataset` DataFrame."
      ]
    },
    {
      "cell_type": "code",
      "execution_count": 68,
      "id": "1cca640f",
      "metadata": {
        "id": "1cca640f",
        "colab": {
          "base_uri": "https://localhost:8080/"
        },
        "outputId": "4d1291a5-ee10-4661-e078-26341e6b8b02"
      },
      "outputs": [
        {
          "output_type": "stream",
          "name": "stdout",
          "text": [
            "Number of rows = 569\n",
            "Number of columns = 31\n"
          ]
        }
      ],
      "source": [
        "#start code here\n",
        "\n",
        "print(\"Number of rows = {}\".format(len(dataset)))\n",
        "print(\"Number of columns = {}\".format(len(dataset.columns)))\n",
        "\n",
        "#end code here"
      ]
    },
    {
      "cell_type": "markdown",
      "id": "85a5fe48",
      "metadata": {
        "id": "85a5fe48"
      },
      "source": [
        "**question 4 (1pt)**\n",
        "\n",
        "Print the column `label` from the `dataset` DataFrame. Don't use `.loc` or `.iloc`."
      ]
    },
    {
      "cell_type": "code",
      "execution_count": 26,
      "id": "bdf7b4ee",
      "metadata": {
        "id": "bdf7b4ee",
        "colab": {
          "base_uri": "https://localhost:8080/"
        },
        "outputId": "f298adb8-b47d-4a57-da84-922fc4156971"
      },
      "outputs": [
        {
          "output_type": "stream",
          "name": "stdout",
          "text": [
            "0      0\n",
            "1      0\n",
            "2      0\n",
            "3      0\n",
            "4      0\n",
            "      ..\n",
            "564    0\n",
            "565    0\n",
            "566    0\n",
            "567    0\n",
            "568    1\n",
            "Name: label, Length: 569, dtype: int64\n"
          ]
        }
      ],
      "source": [
        "#start code here\n",
        "\n",
        "print(dataset.label)\n",
        "\n",
        "#end code here"
      ]
    },
    {
      "cell_type": "markdown",
      "id": "954fb49c",
      "metadata": {
        "id": "954fb49c"
      },
      "source": [
        "**question 5 (1pt)**\n",
        "\n",
        "Print the column `label` from the `dataset` DataFrame using `.loc`."
      ]
    },
    {
      "cell_type": "code",
      "execution_count": 27,
      "id": "041a0b39",
      "metadata": {
        "id": "041a0b39",
        "colab": {
          "base_uri": "https://localhost:8080/"
        },
        "outputId": "4e8011fc-1e29-4d19-fc71-6fb6aa969dab"
      },
      "outputs": [
        {
          "output_type": "stream",
          "name": "stdout",
          "text": [
            "0      0\n",
            "1      0\n",
            "2      0\n",
            "3      0\n",
            "4      0\n",
            "      ..\n",
            "564    0\n",
            "565    0\n",
            "566    0\n",
            "567    0\n",
            "568    1\n",
            "Name: label, Length: 569, dtype: int64\n"
          ]
        }
      ],
      "source": [
        "#start code here\n",
        "\n",
        "print(dataset.loc[:,'label'])\n",
        "\n",
        "#end code here"
      ]
    },
    {
      "cell_type": "markdown",
      "id": "931ebfcf",
      "metadata": {
        "id": "931ebfcf"
      },
      "source": [
        "**question 6 (1pt)**\n",
        "\n",
        "Print the column `label` from the `dataset` DataFrame using `.iloc`."
      ]
    },
    {
      "cell_type": "code",
      "execution_count": 28,
      "id": "c8baf189",
      "metadata": {
        "id": "c8baf189",
        "colab": {
          "base_uri": "https://localhost:8080/"
        },
        "outputId": "adbd8a14-360b-4c3a-a4ab-513d2f9ffa4b"
      },
      "outputs": [
        {
          "output_type": "stream",
          "name": "stdout",
          "text": [
            "0      0\n",
            "1      0\n",
            "2      0\n",
            "3      0\n",
            "4      0\n",
            "      ..\n",
            "564    0\n",
            "565    0\n",
            "566    0\n",
            "567    0\n",
            "568    1\n",
            "Name: label, Length: 569, dtype: int64\n"
          ]
        }
      ],
      "source": [
        "#start code here\n",
        "\n",
        "print(dataset.iloc[:,-1])\n",
        "\n",
        "#end code here"
      ]
    },
    {
      "cell_type": "markdown",
      "id": "74899111",
      "metadata": {
        "id": "74899111"
      },
      "source": [
        "**question 7 (1pt)**\n",
        "\n",
        "Print the label of the third row in the `dataset` DataFrame."
      ]
    },
    {
      "cell_type": "code",
      "execution_count": 32,
      "id": "b8d347a0",
      "metadata": {
        "id": "b8d347a0",
        "colab": {
          "base_uri": "https://localhost:8080/"
        },
        "outputId": "ff9d06fd-1a6f-42c7-f497-a500466982c3"
      },
      "outputs": [
        {
          "output_type": "stream",
          "name": "stdout",
          "text": [
            "0\n"
          ]
        }
      ],
      "source": [
        "#start code here\n",
        "\n",
        "print(dataset.loc[2,'label'])\n",
        "\n",
        "#end code here"
      ]
    },
    {
      "cell_type": "markdown",
      "id": "573545a0",
      "metadata": {
        "id": "573545a0"
      },
      "source": [
        "**question 8 (1pt)**\n",
        "\n",
        "Print the subset of the `dataset` DataFrame that only contains the columns in the Python list `cols_to_print`. You have to use the `cols_to_print` list in the code that creates the subset."
      ]
    },
    {
      "cell_type": "code",
      "execution_count": 34,
      "id": "ccd23fd0",
      "metadata": {
        "id": "ccd23fd0",
        "colab": {
          "base_uri": "https://localhost:8080/"
        },
        "outputId": "50df2809-2473-4484-95b4-1a2ec22d0509"
      },
      "outputs": [
        {
          "output_type": "stream",
          "name": "stdout",
          "text": [
            "     mean area  mean concavity  mean symmetry  label\n",
            "0       1001.0         0.30010         0.2419      0\n",
            "1       1326.0         0.08690         0.1812      0\n",
            "2       1203.0         0.19740         0.2069      0\n",
            "3        386.1         0.24140         0.2597      0\n",
            "4       1297.0         0.19800         0.1809      0\n",
            "..         ...             ...            ...    ...\n",
            "564     1479.0         0.24390         0.1726      0\n",
            "565     1261.0         0.14400         0.1752      0\n",
            "566      858.1         0.09251         0.1590      0\n",
            "567     1265.0         0.35140         0.2397      0\n",
            "568      181.0         0.00000         0.1587      1\n",
            "\n",
            "[569 rows x 4 columns]\n"
          ]
        }
      ],
      "source": [
        "cols_to_print = ['mean area','mean concavity','mean symmetry','label']\n",
        "\n",
        "#start code here\n",
        "\n",
        "print(dataset.loc[:,cols_to_print])\n",
        "\n",
        "#end code here"
      ]
    },
    {
      "cell_type": "markdown",
      "id": "e4572d5f",
      "metadata": {
        "id": "e4572d5f"
      },
      "source": [
        "**question 9 (2pts)**\n",
        "\n",
        "Print all the rows in the `dataset` DataFrame with `mean symmetry` > 0.2 and `label` equal to 1."
      ]
    },
    {
      "cell_type": "code",
      "execution_count": 38,
      "id": "ea1c4d32",
      "metadata": {
        "id": "ea1c4d32",
        "colab": {
          "base_uri": "https://localhost:8080/"
        },
        "outputId": "8581d507-1219-47a4-e581-fbf47fb31071"
      },
      "outputs": [
        {
          "output_type": "stream",
          "name": "stdout",
          "text": [
            "     mean radius  mean texture  mean perimeter  mean area  mean smoothness  \\\n",
            "60        10.170         14.88           64.55      311.9          0.11340   \n",
            "63         9.173         13.86           59.20      260.9          0.07721   \n",
            "68         9.029         17.33           58.79      250.5          0.10660   \n",
            "76        13.530         10.94           87.91      559.2          0.12910   \n",
            "84        12.000         15.65           76.95      443.3          0.09723   \n",
            "89        14.640         15.24           95.77      651.9          0.11320   \n",
            "104       10.490         19.29           67.41      336.1          0.09989   \n",
            "128       15.100         16.39           99.58      674.5          0.11500   \n",
            "150       13.000         20.78           83.51      519.4          0.11350   \n",
            "151        8.219         20.70           53.27      203.9          0.09405   \n",
            "152        9.731         15.34           63.78      300.2          0.10720   \n",
            "225       14.340         13.47           92.51      641.2          0.09906   \n",
            "242       11.300         18.19           73.93      389.4          0.09592   \n",
            "268       12.870         16.21           82.38      512.2          0.09425   \n",
            "273        9.742         15.67           61.50      289.9          0.09037   \n",
            "275       11.890         17.36           76.20      435.6          0.12250   \n",
            "279       13.850         15.18           88.99      587.4          0.09516   \n",
            "281       11.740         14.02           74.24      427.3          0.07813   \n",
            "288       11.260         19.96           73.72      394.1          0.08020   \n",
            "289       11.370         18.89           72.17      396.0          0.08713   \n",
            "314        8.597         18.60           54.09      221.2          0.10740   \n",
            "318        9.042         18.90           60.07      244.5          0.09968   \n",
            "341        9.606         16.84           61.64      280.5          0.08481   \n",
            "344       11.710         15.45           75.03      420.3          0.11500   \n",
            "349       11.950         14.96           77.23      426.7          0.11580   \n",
            "356       13.050         18.59           85.09      512.0          0.10820   \n",
            "376       10.570         20.22           70.15      338.3          0.09073   \n",
            "380       11.270         12.96           73.16      386.3          0.12370   \n",
            "381       11.040         14.93           70.67      372.7          0.07987   \n",
            "415       11.890         21.17           76.39      433.8          0.09773   \n",
            "416        9.405         21.70           59.60      271.2          0.10440   \n",
            "420       11.570         19.04           74.20      409.7          0.08546   \n",
            "421       14.690         13.98           98.22      656.1          0.10310   \n",
            "424        9.742         19.12           61.93      289.7          0.10750   \n",
            "427       10.800         21.98           68.79      359.9          0.08801   \n",
            "443       10.570         18.32           66.82      340.9          0.08142   \n",
            "470        9.667         18.49           61.49      289.1          0.08946   \n",
            "485       12.450         16.41           82.85      476.7          0.09514   \n",
            "504        9.268         12.87           61.49      248.7          0.16340   \n",
            "505        9.676         13.14           64.12      272.5          0.12550   \n",
            "506       12.220         20.04           79.47      453.1          0.10960   \n",
            "519       12.750         16.70           82.51      493.8          0.11250   \n",
            "520        9.295         13.90           59.96      257.8          0.13710   \n",
            "537       11.690         24.44           76.37      406.4          0.12360   \n",
            "539        7.691         25.44           48.34      170.4          0.08668   \n",
            "551       11.130         22.44           71.49      378.4          0.09566   \n",
            "\n",
            "     mean compactness  mean concavity  mean concave points  mean symmetry  \\\n",
            "60            0.08061        0.010840              0.01290         0.2743   \n",
            "63            0.08751        0.059880              0.02180         0.2341   \n",
            "68            0.14130        0.313000              0.04375         0.2111   \n",
            "76            0.10470        0.068770              0.06556         0.2403   \n",
            "84            0.07165        0.041510              0.01863         0.2079   \n",
            "89            0.13390        0.099660              0.07064         0.2116   \n",
            "104           0.08578        0.029950              0.01201         0.2217   \n",
            "128           0.18070        0.113800              0.08534         0.2001   \n",
            "150           0.07589        0.031360              0.02645         0.2540   \n",
            "151           0.13050        0.132100              0.02168         0.2222   \n",
            "152           0.15990        0.410800              0.07857         0.2548   \n",
            "225           0.07624        0.057240              0.04603         0.2075   \n",
            "242           0.13250        0.154800              0.02854         0.2054   \n",
            "268           0.06219        0.039000              0.01615         0.2010   \n",
            "273           0.04689        0.011030              0.01407         0.2081   \n",
            "275           0.07210        0.059290              0.07404         0.2015   \n",
            "279           0.07688        0.044790              0.03711         0.2110   \n",
            "281           0.04340        0.022450              0.02763         0.2101   \n",
            "288           0.11810        0.092740              0.05588         0.2595   \n",
            "289           0.05008        0.023990              0.02173         0.2013   \n",
            "314           0.05847        0.000000              0.00000         0.2163   \n",
            "318           0.19720        0.197500              0.04908         0.2330   \n",
            "341           0.09228        0.084220              0.02292         0.2036   \n",
            "344           0.07281        0.040060              0.03250         0.2009   \n",
            "349           0.12060        0.011710              0.01787         0.2459   \n",
            "356           0.13040        0.096030              0.05603         0.2035   \n",
            "376           0.16600        0.228000              0.05941         0.2188   \n",
            "380           0.11110        0.079000              0.05550         0.2018   \n",
            "381           0.07079        0.035460              0.02074         0.2003   \n",
            "415           0.08120        0.025550              0.02179         0.2019   \n",
            "416           0.06159        0.020470              0.01257         0.2025   \n",
            "420           0.07722        0.054850              0.01428         0.2031   \n",
            "421           0.18360        0.145000              0.06300         0.2086   \n",
            "424           0.08333        0.008934              0.01967         0.2538   \n",
            "427           0.05743        0.036140              0.01404         0.2016   \n",
            "443           0.04462        0.019930              0.01111         0.2372   \n",
            "470           0.06258        0.029480              0.01514         0.2238   \n",
            "485           0.15110        0.154400              0.04846         0.2082   \n",
            "504           0.22390        0.097300              0.05252         0.2378   \n",
            "505           0.22040        0.118800              0.07038         0.2057   \n",
            "506           0.11520        0.081750              0.02166         0.2124   \n",
            "519           0.11170        0.038800              0.02995         0.2120   \n",
            "520           0.12250        0.033320              0.02421         0.2197   \n",
            "537           0.15520        0.045150              0.04531         0.2131   \n",
            "539           0.11990        0.092520              0.01364         0.2037   \n",
            "551           0.08194        0.048240              0.02257         0.2030   \n",
            "\n",
            "     mean fractal dimension  ...  worst texture  worst perimeter  worst area  \\\n",
            "60                  0.06960  ...          17.45            69.86       368.6   \n",
            "63                  0.06963  ...          19.23            65.59       310.1   \n",
            "68                  0.08046  ...          22.65            65.50       324.7   \n",
            "76                  0.06641  ...          12.49            91.36       605.5   \n",
            "84                  0.05968  ...          24.90            87.78       567.9   \n",
            "89                  0.06346  ...          18.24           109.40       803.6   \n",
            "104                 0.06481  ...          23.31            74.22       402.8   \n",
            "128                 0.06467  ...          18.33           105.90       762.6   \n",
            "150                 0.06087  ...          24.11            90.82       616.7   \n",
            "151                 0.08261  ...          29.72            58.08       249.8   \n",
            "152                 0.09296  ...          19.49            71.04       380.5   \n",
            "225                 0.05448  ...          16.90           110.40       873.2   \n",
            "242                 0.07669  ...          27.96            87.16       472.9   \n",
            "268                 0.05769  ...          23.64            89.27       597.5   \n",
            "273                 0.06312  ...          20.88            68.09       355.2   \n",
            "275                 0.05875  ...          18.99            79.46       472.4   \n",
            "279                 0.05853  ...          21.74            98.37       670.0   \n",
            "281                 0.06113  ...          18.26            84.70       533.7   \n",
            "288                 0.06233  ...          22.33            78.27       437.6   \n",
            "289                 0.05955  ...          26.14            79.29       459.3   \n",
            "314                 0.07359  ...          22.44            56.65       240.1   \n",
            "318                 0.08743  ...          23.40            68.62       297.1   \n",
            "341                 0.07125  ...          23.07            71.25       353.6   \n",
            "344                 0.06506  ...          18.16            84.16       516.4   \n",
            "349                 0.06581  ...          17.72            83.09       496.2   \n",
            "356                 0.06501  ...          24.85            94.22       591.2   \n",
            "376                 0.08450  ...          22.82            76.51       351.9   \n",
            "380                 0.06914  ...          20.53            84.93       476.1   \n",
            "381                 0.06246  ...          20.83            79.73       447.1   \n",
            "415                 0.06290  ...          27.21            85.09       522.9   \n",
            "416                 0.06601  ...          31.24            68.73       359.4   \n",
            "420                 0.06267  ...          26.98            86.43       520.5   \n",
            "421                 0.07406  ...          18.34           114.10       809.2   \n",
            "424                 0.07029  ...          23.17            71.79       380.9   \n",
            "427                 0.05977  ...          32.04            83.69       489.5   \n",
            "443                 0.05768  ...          23.31            69.35       366.3   \n",
            "470                 0.06413  ...          25.62            70.88       385.2   \n",
            "485                 0.07325  ...          21.03            97.82       580.6   \n",
            "504                 0.09502  ...          16.38            69.05       300.2   \n",
            "505                 0.09575  ...          18.04            69.47       328.1   \n",
            "506                 0.06894  ...          24.17            85.13       515.3   \n",
            "519                 0.06623  ...          21.74            93.63       624.1   \n",
            "520                 0.07696  ...          17.84            67.84       326.6   \n",
            "537                 0.07405  ...          32.19            86.12       487.7   \n",
            "539                 0.07751  ...          31.89            54.49       223.6   \n",
            "551                 0.06552  ...          28.26            77.80       436.6   \n",
            "\n",
            "     worst smoothness  worst compactness  worst concavity  \\\n",
            "60            0.12750            0.09866          0.02168   \n",
            "63            0.09836            0.16780          0.13970   \n",
            "68            0.14820            0.43650          1.25200   \n",
            "76            0.14510            0.13790          0.08539   \n",
            "84            0.13770            0.20030          0.22670   \n",
            "89            0.12770            0.30890          0.26040   \n",
            "104           0.12190            0.14860          0.07987   \n",
            "128           0.13860            0.28830          0.19600   \n",
            "150           0.12970            0.11050          0.08112   \n",
            "151           0.16300            0.43100          0.53810   \n",
            "152           0.12920            0.27720          0.82160   \n",
            "225           0.12970            0.15250          0.16320   \n",
            "242           0.13470            0.48480          0.74360   \n",
            "268           0.12560            0.18080          0.19920   \n",
            "273           0.14670            0.09370          0.04043   \n",
            "275           0.13590            0.08368          0.07153   \n",
            "279           0.11850            0.17240          0.14560   \n",
            "281           0.10360            0.08500          0.06735   \n",
            "288           0.10280            0.18430          0.15460   \n",
            "289           0.11180            0.09708          0.07529   \n",
            "314           0.13470            0.07767          0.00000   \n",
            "318           0.12210            0.37480          0.46090   \n",
            "341           0.12330            0.34160          0.43410   \n",
            "344           0.14600            0.11150          0.10870   \n",
            "349           0.12930            0.18850          0.03122   \n",
            "356           0.13430            0.26580          0.25730   \n",
            "376           0.11430            0.36190          0.60300   \n",
            "380           0.16100            0.24290          0.22470   \n",
            "381           0.10950            0.19820          0.15530   \n",
            "415           0.14260            0.21870          0.11640   \n",
            "416           0.15260            0.11930          0.06141   \n",
            "420           0.12490            0.19370          0.25600   \n",
            "421           0.13120            0.36350          0.32190   \n",
            "424           0.13980            0.13520          0.02085   \n",
            "427           0.13030            0.16960          0.19270   \n",
            "443           0.09794            0.06542          0.03986   \n",
            "470           0.12340            0.15420          0.12770   \n",
            "485           0.11750            0.40610          0.48960   \n",
            "504           0.19020            0.34410          0.20990   \n",
            "505           0.20060            0.36630          0.29130   \n",
            "506           0.14020            0.23150          0.35350   \n",
            "519           0.14750            0.19790          0.14230   \n",
            "520           0.18500            0.20970          0.09996   \n",
            "537           0.17680            0.32510          0.13950   \n",
            "539           0.15960            0.30640          0.33930   \n",
            "551           0.10870            0.17820          0.15640   \n",
            "\n",
            "     worst concave points  worst symmetry  worst fractal dimension  label  \n",
            "60                0.02579          0.3557                  0.08020      1  \n",
            "63                0.05087          0.3282                  0.08490      1  \n",
            "68                0.17500          0.4228                  0.11750      1  \n",
            "76                0.07407          0.2710                  0.07191      1  \n",
            "84                0.07632          0.3379                  0.07924      1  \n",
            "89                0.13970          0.3151                  0.08473      1  \n",
            "104               0.03203          0.2826                  0.07552      1  \n",
            "128               0.14230          0.2590                  0.07779      1  \n",
            "150               0.06296          0.3196                  0.06435      1  \n",
            "151               0.07879          0.3322                  0.14860      1  \n",
            "152               0.15710          0.3108                  0.12590      1  \n",
            "225               0.10870          0.3062                  0.06072      1  \n",
            "242               0.12180          0.3308                  0.12970      1  \n",
            "268               0.05780          0.3604                  0.07062      1  \n",
            "273               0.05159          0.2841                  0.08175      1  \n",
            "275               0.08946          0.2220                  0.06033      1  \n",
            "279               0.09993          0.2955                  0.06912      1  \n",
            "281               0.08290          0.3101                  0.06688      1  \n",
            "288               0.09314          0.2955                  0.07009      1  \n",
            "289               0.06203          0.3267                  0.06994      1  \n",
            "314               0.00000          0.3142                  0.08116      1  \n",
            "318               0.11450          0.3135                  0.10550      1  \n",
            "341               0.08120          0.2982                  0.09825      1  \n",
            "344               0.07864          0.2765                  0.07806      1  \n",
            "349               0.04766          0.3124                  0.07590      1  \n",
            "356               0.12580          0.3113                  0.08317      1  \n",
            "376               0.14650          0.2597                  0.12000      1  \n",
            "380               0.13180          0.3343                  0.09215      1  \n",
            "381               0.06754          0.3202                  0.07287      1  \n",
            "415               0.08263          0.3075                  0.07351      1  \n",
            "416               0.03770          0.2872                  0.08304      1  \n",
            "420               0.06664          0.3035                  0.08284      1  \n",
            "421               0.11080          0.2827                  0.09208      1  \n",
            "424               0.04589          0.3196                  0.08009      1  \n",
            "427               0.07485          0.2965                  0.07662      1  \n",
            "443               0.02222          0.2699                  0.06736      1  \n",
            "470               0.06560          0.3174                  0.08524      1  \n",
            "485               0.13420          0.3231                  0.10340      1  \n",
            "504               0.10250          0.3038                  0.12520      1  \n",
            "505               0.10750          0.2848                  0.13640      1  \n",
            "506               0.08088          0.2709                  0.08839      1  \n",
            "519               0.08045          0.3071                  0.08557      1  \n",
            "520               0.07262          0.3681                  0.08982      1  \n",
            "537               0.13080          0.2803                  0.09970      1  \n",
            "539               0.05000          0.2790                  0.10660      1  \n",
            "551               0.06413          0.3169                  0.08032      1  \n",
            "\n",
            "[46 rows x 31 columns]\n"
          ]
        }
      ],
      "source": [
        "#start code here\n",
        "\n",
        "print(dataset.loc[(dataset['mean symmetry'] > 0.2) & (dataset['label'] == 1)])\n",
        "\n",
        "#end code here"
      ]
    },
    {
      "cell_type": "markdown",
      "id": "c576b9a9",
      "metadata": {
        "id": "c576b9a9"
      },
      "source": [
        "**question 10 (2pts)**\n",
        "\n",
        "Print the median of the `area error` column in `dataset` for all rows with `label` equal to 1."
      ]
    },
    {
      "cell_type": "code",
      "execution_count": 43,
      "id": "fb196c3e",
      "metadata": {
        "id": "fb196c3e",
        "colab": {
          "base_uri": "https://localhost:8080/"
        },
        "outputId": "27fdf9b6-d16d-4c0e-a1f6-e258e0afc37e"
      },
      "outputs": [
        {
          "output_type": "stream",
          "name": "stdout",
          "text": [
            "19.63\n"
          ]
        }
      ],
      "source": [
        "#start code here\n",
        "\n",
        "subset = dataset.loc[(dataset['label'] == 1)]\n",
        "print(subset['area error'].median())\n",
        "\n",
        "#end code here"
      ]
    },
    {
      "cell_type": "markdown",
      "id": "0a625d48",
      "metadata": {
        "id": "0a625d48"
      },
      "source": [
        "**question 11 (3pts)**\n",
        "\n",
        "Create a Pandes Series called `mean_area_ordinal` that, for each row in `dataset`, contains the value `low` if the value for `mean area` is within [0,420[, the value `middle` if the value for `mean area` is within [420,550[ and the value `high` if the value for `mean area` is larger of equal to 550. Use the `.apply()` function."
      ]
    },
    {
      "cell_type": "code",
      "execution_count": 49,
      "id": "2646a5bd",
      "metadata": {
        "id": "2646a5bd",
        "colab": {
          "base_uri": "https://localhost:8080/"
        },
        "outputId": "0dea12af-a508-497e-8298-bb4d3ce2b8ac"
      },
      "outputs": [
        {
          "output_type": "stream",
          "name": "stdout",
          "text": [
            "0      high\n",
            "1      high\n",
            "2      high\n",
            "3       low\n",
            "4      high\n",
            "       ... \n",
            "564    high\n",
            "565    high\n",
            "566    high\n",
            "567    high\n",
            "568     low\n",
            "Length: 569, dtype: object\n"
          ]
        }
      ],
      "source": [
        "#start code here\n",
        "\n",
        "def function(row):\n",
        "    if (row['mean area'] > 0) & (row['mean area']< 420):\n",
        "        return 'low'\n",
        "    elif (row['mean area'] >=420)  & (row['mean area']< 550):\n",
        "        return 'middle'\n",
        "    else:\n",
        "      return 'high'\n",
        "\n",
        "mean_area_ordinal = dataset.apply(function, axis='columns')\n",
        "\n",
        "#end code here\n",
        "\n",
        "print(mean_area_ordinal)"
      ]
    },
    {
      "cell_type": "markdown",
      "id": "dbab0bde",
      "metadata": {
        "id": "dbab0bde"
      },
      "source": [
        "**question 12 (1pt)**\n",
        "\n",
        "Write one line of code that shows how many datapoints in `mean_area_ordinal` have value `high`, how many have value `middle` and how many have value `low`."
      ]
    },
    {
      "cell_type": "code",
      "execution_count": 54,
      "id": "e387506b",
      "metadata": {
        "id": "e387506b",
        "colab": {
          "base_uri": "https://localhost:8080/"
        },
        "outputId": "9785bd51-d263-44fa-c984-4d8848a9e51b"
      },
      "outputs": [
        {
          "output_type": "execute_result",
          "data": {
            "text/plain": [
              "high      285\n",
              "low       142\n",
              "middle    142\n",
              "dtype: int64"
            ]
          },
          "metadata": {},
          "execution_count": 54
        }
      ],
      "source": [
        "#start code here\n",
        "\n",
        "mean_area_ordinal.value_counts()\n",
        "\n",
        "#end code here"
      ]
    },
    {
      "cell_type": "markdown",
      "id": "973b3fcc",
      "metadata": {
        "id": "973b3fcc"
      },
      "source": [
        "**question 13 (2pts)**\n",
        "\n",
        "To prepare for Scikit-learn model fitting we need to keep the feature vectors and the label separate. Create a variable `X` that contains all the 30 features in `dataset` and a variable `y` that contains the label."
      ]
    },
    {
      "cell_type": "code",
      "execution_count": 58,
      "id": "4c967ed2",
      "metadata": {
        "id": "4c967ed2",
        "colab": {
          "base_uri": "https://localhost:8080/"
        },
        "outputId": "ab179c6c-da9a-445b-e09a-ae6f07885a24"
      },
      "outputs": [
        {
          "output_type": "stream",
          "name": "stdout",
          "text": [
            "(569, 30)\n",
            "(569,)\n"
          ]
        }
      ],
      "source": [
        "#start code here\n",
        "\n",
        "X = dataset.loc[:, dataset.columns != 'label']\n",
        "y = dataset.label\n",
        "\n",
        "#end code here\n",
        "\n",
        "print(X.shape)\n",
        "print(y.shape)"
      ]
    },
    {
      "cell_type": "markdown",
      "id": "ceba47f8",
      "metadata": {
        "id": "ceba47f8"
      },
      "source": [
        "**question 14 (1pt)**\n",
        "\n",
        "Use the Scikit-learn `StandardScaler` to standardize the feature values in `X` (assign the result to `X_norm`)."
      ]
    },
    {
      "cell_type": "code",
      "execution_count": 61,
      "id": "9c5c5ea7",
      "metadata": {
        "id": "9c5c5ea7",
        "colab": {
          "base_uri": "https://localhost:8080/"
        },
        "outputId": "6a775e64-7e23-48fd-e9a4-dbae7798d11b"
      },
      "outputs": [
        {
          "output_type": "stream",
          "name": "stdout",
          "text": [
            "[[ 1.09706398 -2.07333501  1.26993369 ...  2.29607613  2.75062224\n",
            "   1.93701461]\n",
            " [ 1.82982061 -0.35363241  1.68595471 ...  1.0870843  -0.24388967\n",
            "   0.28118999]\n",
            " [ 1.57988811  0.45618695  1.56650313 ...  1.95500035  1.152255\n",
            "   0.20139121]\n",
            " ...\n",
            " [ 0.70228425  2.0455738   0.67267578 ...  0.41406869 -1.10454895\n",
            "  -0.31840916]\n",
            " [ 1.83834103  2.33645719  1.98252415 ...  2.28998549  1.91908301\n",
            "   2.21963528]\n",
            " [-1.80840125  1.22179204 -1.81438851 ... -1.74506282 -0.04813821\n",
            "  -0.75120669]]\n"
          ]
        }
      ],
      "source": [
        "from sklearn.preprocessing import StandardScaler\n",
        "\n",
        "#start code here\n",
        "\n",
        "X_norm = StandardScaler().fit_transform(X) \n",
        "\n",
        "#end code here\n",
        "\n",
        "print(X_norm)"
      ]
    },
    {
      "cell_type": "markdown",
      "id": "c4266c19",
      "metadata": {
        "id": "c4266c19"
      },
      "source": [
        "**question 15 (1pt)**\n",
        "\n",
        "What does the following code do? What is in `X_train`, `X_test`, `y_train` and `y_test`?"
      ]
    },
    {
      "cell_type": "code",
      "execution_count": 62,
      "id": "1dc3253d",
      "metadata": {
        "id": "1dc3253d"
      },
      "outputs": [],
      "source": [
        "from sklearn.model_selection import train_test_split\n",
        "\n",
        "X_train, X_test, y_train, y_test = train_test_split(X_norm, y, test_size=0.2, random_state=0)"
      ]
    },
    {
      "cell_type": "markdown",
      "id": "1653901a",
      "metadata": {
        "id": "1653901a"
      },
      "source": [
        "**Answer:**\n",
        "\n",
        "The function train_test_split() splits arrays or matrices into random train and test subsets. In this case the standardized feature values from X_norm are divided between X_train and X_test and the labels from y are split between y_train and y_test. \n",
        "\n",
        "The test_size parameter represents the proportion of the dataset to include in the test split. This means that in our code a proportion of 0.2 out of 1 is included in the test sets X_test and y_test.\n",
        "\n",
        "The random_state parameter on the other hand controls the shuffling applied to the data before applying the split. The integer 0 is used here to assure reproducible output across multiple function calls"
      ]
    },
    {
      "cell_type": "markdown",
      "id": "99d0e199",
      "metadata": {
        "id": "99d0e199"
      },
      "source": [
        "**question 16 (2pts)**\n",
        "\n",
        "Use the training set to compute the opimal values for the modelparameters in a Logistic Regression model (with hyperparameter `random_state` set to 1, all other hyperparameter values should be set to their Scikit-learn default values)."
      ]
    },
    {
      "cell_type": "code",
      "execution_count": 63,
      "id": "f3d95d86",
      "metadata": {
        "id": "f3d95d86",
        "colab": {
          "base_uri": "https://localhost:8080/"
        },
        "outputId": "320da887-a740-48f1-f4b0-d5e469294846"
      },
      "outputs": [
        {
          "output_type": "execute_result",
          "data": {
            "text/plain": [
              "LogisticRegression(random_state=1)"
            ]
          },
          "metadata": {},
          "execution_count": 63
        }
      ],
      "source": [
        "from sklearn.linear_model import LogisticRegression\n",
        "\n",
        "#start code here\n",
        "\n",
        "lr_model = LogisticRegression(random_state=1)\n",
        "\n",
        "lr_model.fit(X_train, y_train)\n",
        "\n",
        "#end code here\n"
      ]
    },
    {
      "cell_type": "markdown",
      "id": "e7d2893d",
      "metadata": {
        "id": "e7d2893d"
      },
      "source": [
        "**question 17 (2pts)**\n",
        "\n",
        "Given the fitted model, compute predictions on the test set and compute the Area Under the Receiver Operating Characteristic curve (AUC) for these predictions."
      ]
    },
    {
      "cell_type": "code",
      "execution_count": 64,
      "id": "13060c64",
      "metadata": {
        "id": "13060c64",
        "colab": {
          "base_uri": "https://localhost:8080/"
        },
        "outputId": "469ce909-d32f-4dc6-a24d-53249b47d320"
      },
      "outputs": [
        {
          "output_type": "stream",
          "name": "stdout",
          "text": [
            "0.9637980311209908\n"
          ]
        }
      ],
      "source": [
        "from sklearn.metrics import roc_auc_score\n",
        "\n",
        "#start code here\n",
        "\n",
        "predictions = lr_model.predict(X_test)\n",
        "score_auc = roc_auc_score(y_test, predictions)\n",
        "\n",
        "#end code here\n",
        "\n",
        "print(score_auc)"
      ]
    }
  ],
  "metadata": {
    "colab": {
      "provenance": [],
      "include_colab_link": true
    },
    "kernelspec": {
      "display_name": "Python 3 (ipykernel)",
      "language": "python",
      "name": "python3"
    },
    "language_info": {
      "codemirror_mode": {
        "name": "ipython",
        "version": 3
      },
      "file_extension": ".py",
      "mimetype": "text/x-python",
      "name": "python",
      "nbconvert_exporter": "python",
      "pygments_lexer": "ipython3",
      "version": "3.9.13"
    }
  },
  "nbformat": 4,
  "nbformat_minor": 5
}